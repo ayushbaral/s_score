{
 "cells": [
  {
   "cell_type": "code",
   "execution_count": 1,
   "metadata": {},
   "outputs": [],
   "source": [
    "import pandas as pd\n",
    "import numpy as np\n",
    "import matplotlib.pyplot as plt\n",
    "import seaborn as sns\n",
    "from sklearn.decomposition import PCA\n",
    "import matplotlib.dates as mdates\n",
    "import matplotlib.ticker as ticker\n",
    "import yfinance as yf"
   ]
  },
  {
   "cell_type": "code",
   "execution_count": 2,
   "metadata": {},
   "outputs": [],
   "source": [
    "stock_tickers = set([\n",
    "    # Large-cap stocks\n",
    "    \"AAPL\", \"MSFT\", \"GOOGL\", \"AMZN\", \"META\", \"NVDA\", \"BRK.B\", \"JPM\", \"JNJ\", \"V\",\n",
    "    \"WMT\", \"PG\", \"MA\", \"UNH\", \"HD\", \"BAC\", \"XOM\", \"DIS\", \"CSCO\", \"VZ\",\n",
    "    \n",
    "    # Growth stocks\n",
    "    \"TSLA\", \"SQ\", \"SHOP\", \"ROKU\", \"TTD\", \"DDOG\", \"CRWD\", \"ZS\", \"SNOW\", \"NET\",\n",
    "    \"TWLO\", \"OKTA\", \"PLTR\", \"U\", \"RBLX\", \"ABNB\", \"DASH\", \"COIN\", \"AFRM\", \"RIVN\",\n",
    "    \n",
    "    # Value stocks\n",
    "    \"CVX\", \"PFE\", \"MRK\", \"KO\", \"PEP\", \"T\", \"IBM\", \"GE\", \"F\", \"GM\",\n",
    "    \"CAT\", \"MMM\", \"DOW\", \"CVS\", \"WBA\", \"MO\", \"PM\", \"BTI\", \"VLO\", \"PSX\",\n",
    "    \n",
    "    # Low volatility stocks\n",
    "    \"PG\", \"JNJ\", \"KO\", \"PEP\", \"WMT\", \"MCD\", \"CL\", \"K\", \"GIS\", \"HSY\",\n",
    "    \"CPB\", \"KMB\", \"CHD\", \"SJM\", \"HRL\", \"MKC\", \"CLX\", \"MDLZ\", \"KHC\", \"CAG\",\n",
    "    \n",
    "    # Small-cap stocks\n",
    "    \"ATEN\", \"BCOV\", \"CAKE\", \"DENN\", \"EZPW\", \"FCEL\", \"GIII\", \"HLIT\", \"IRBT\", \"JBLU\",\n",
    "    \"KMPR\", \"LGIH\", \"MGLN\", \"NAVI\", \"OFIX\", \"PLAB\", \"QADA\", \"RCII\", \"SANM\", \"TRUP\",\n",
    "    \n",
    "    # Momentum stocks\n",
    "    \"AMD\", \"ENPH\", \"SEDG\", \"ETSY\", \"SNAP\", \"PINS\", \"ZM\", \"PTON\", \"BYND\", \"SPCE\",\n",
    "    \"PLUG\", \"FSLR\", \"RUN\", \"BE\", \"NOVA\", \"CHPT\", \"BLNK\", \"EVGO\", \"LCID\", \"FSR\",\n",
    "    \n",
    "    # Additional mixed stocks\n",
    "    \"AAL\", \"ABBV\", \"ABT\", \"ACN\", \"ADBE\", \"ADI\", \"ADM\", \"ADP\", \"AEP\", \"AIG\",\n",
    "    \"ALK\", \"AMAT\", \"AMC\", \"AMD\", \"AME\", \"AMGN\", \"AMP\", \"AMT\", \"ANET\", \"ANSS\",\n",
    "    \"AON\", \"AOS\", \"APA\", \"APD\", \"APH\", \"APTV\", \"ARE\", \"ATO\", \"ATVI\", \"AVB\",\n",
    "    \"AVGO\", \"AVY\", \"AWK\", \"AXP\", \"AZO\", \"BA\", \"BAX\", \"BBY\", \"BDX\", \"BEN\",\n",
    "    \"BF.B\", \"BG\", \"BIIB\", \"BIO\", \"BK\", \"BKNG\", \"BKR\", \"BLK\", \"BMY\", \"BR\",\n",
    "    \"BRO\", \"BSX\", \"BWA\", \"BXP\", \"C\", \"CAH\", \"CB\", \"CBOE\", \"CCI\", \"CCL\",\n",
    "    \"CDNS\", \"CDW\", \"CE\", \"CERN\", \"CF\", \"CFG\", \"CHD\", \"CHRW\", \"CHTR\", \"CI\",\n",
    "    \"CINF\", \"CL\", \"CLX\", \"CMA\", \"CMCSA\", \"CME\", \"CMG\", \"CMI\", \"CMS\", \"CNC\",\n",
    "    \"CNP\", \"COF\", \"COO\", \"COP\", \"COST\", \"CPB\", \"CPRT\", \"CRL\", \"CRM\", \"CSCO\",\n",
    "    \"CSX\", \"CTAS\", \"CTLT\", \"CTSH\", \"CTVA\", \"CTXS\", \"CVS\", \"CVX\", \"CZR\", \"D\",\n",
    "    \"DAL\", \"DD\", \"DE\", \"DFS\", \"DG\", \"DGX\", \"DHI\", \"DHR\", \"DIS\", \"DISH\",\n",
    "    \"DLR\", \"DLTR\", \"DOV\", \"DOW\", \"DPZ\", \"DRE\", \"DRI\", \"DTE\", \"DUK\", \"DVA\",\n",
    "    \"DVN\", \"DXC\", \"DXCM\", \"EA\", \"EBAY\", \"ECL\", \"ED\", \"EFX\", \"EIX\", \"EL\",\n",
    "    \"EMN\", \"EMR\", \"ENPH\", \"EOG\", \"EQIX\", \"EQR\", \"ES\", \"ESS\", \"ETN\", \"ETR\",\n",
    "    \"ETSY\", \"EVRG\", \"EW\", \"EXC\", \"EXPD\", \"EXR\", \"F\", \"FAST\", \"FB\", \"FBHS\",\n",
    "    \"FCX\", \"FDS\", \"FDX\", \"FE\", \"FFIV\", \"FIS\", \"FISV\", \"FITB\", \"FLT\", \"FMC\",\n",
    "    \"FOX\", \"FOXA\", \"FRC\", \"FRT\", \"FTNT\", \"FTV\", \"GD\", \"GE\", \"GILD\", \"GIS\",\n",
    "    \"GL\", \"GLW\", \"GM\", \"GNRC\", \"GOOG\", \"GOOGL\", \"GPC\", \"GPN\", \"GRMN\", \"GS\",\n",
    "    \"GWW\", \"HAL\", \"HAS\", \"HBAN\", \"HCA\", \"HD\", \"HES\", \"HIG\", \"HII\", \"HLT\",\n",
    "    \"HOLX\", \"HON\", \"HPE\", \"HPQ\", \"HRL\", \"HSIC\", \"HST\", \"HSY\", \"HUM\", \"HWM\",\n",
    "    \"IBM\", \"ICE\", \"IDXX\", \"IEX\", \"IFF\", \"ILMN\", \"INCY\", \"INTC\", \"INTU\", \"IP\",\n",
    "    \"IPG\", \"IQV\", \"IR\", \"IRM\", \"ISRG\", \"IT\", \"ITW\", \"IVZ\", \"J\", \"JBHT\",\n",
    "    \"JCI\", \"JKHY\", \"JNJ\", \"JNPR\", \"JPM\", \"K\", \"KEY\", \"KEYS\", \"KHC\", \"KIM\",\n",
    "    \"KLAC\", \"KMB\", \"KMI\", \"KMX\", \"KO\", \"KR\", \"L\", \"LDOS\", \"LEG\", \"LEN\",\n",
    "    \"LH\", \"LHX\", \"LIN\", \"LKQ\", \"LLY\", \"LMT\", \"LNC\", \"LNT\", \"LOW\", \"LRCX\",\n",
    "    \"LUMN\", \"LUV\", \"LVS\", \"LW\", \"LYB\", \"LYV\", \"MA\", \"MAA\", \"MAR\", \"MAS\",\n",
    "    \"MCD\", \"MCHP\", \"MCK\", \"MCO\", \"MDLZ\", \"MDT\", \"MET\", \"MGM\", \"MHK\", \"MKC\",\n",
    "    \"MKTX\", \"MLM\", \"MMC\", \"MMM\", \"MNST\", \"MO\", \"MOH\", \"MOS\", \"MPC\", \"MPWR\",\n",
    "    \"MRK\", \"MRNA\", \"MRO\", \"MS\", \"MSCI\", \"MSFT\", \"MSI\", \"MTB\", \"MTD\", \"MU\",\n",
    "    \"NCLH\", \"NDAQ\", \"NEE\", \"NEM\", \"NFLX\", \"NI\", \"NKE\", \"NLOK\", \"NLSN\", \"NOC\",\n",
    "    \"NOV\", \"NOW\", \"NRG\", \"NSC\", \"NTAP\", \"NTRS\", \"NUE\", \"NVDA\", \"NVR\", \"NWL\",\n",
    "    \"NWS\", \"NWSA\", \"NXPI\", \"O\", \"ODFL\", \"OGN\", \"OKE\", \"OMC\", \"ORCL\", \"ORLY\",\n",
    "    \"OTIS\", \"OXY\", \"PAYC\", \"PAYX\", \"PBCT\", \"PCAR\", \"PEAK\", \"PEG\", \"PENN\", \"PEP\",\n",
    "    \"PFE\", \"PFG\", \"PG\", \"PGR\", \"PH\", \"PHM\", \"PKG\", \"PKI\", \"PLD\", \"PM\",\n",
    "    \"PNC\", \"PNR\", \"PNW\", \"POOL\", \"PPG\", \"PPL\", \"PRGO\", \"PRU\", \"PSA\", \"PSX\",\n",
    "    \"PTC\", \"PVH\", \"PWR\", \"PXD\", \"PYPL\", \"QCOM\", \"QRVO\", \"RCL\", \"RE\", \"REG\",\n",
    "    \"REGN\", \"RF\", \"RHI\", \"RJF\", \"RL\", \"RMD\", \"ROK\", \"ROL\", \"ROP\", \"ROST\",\n",
    "    \"RSG\", \"RTX\", \"SBAC\", \"SBUX\", \"SCHW\", \"SEE\", \"SHW\", \"SIVB\", \"SJM\", \"SLB\",\n",
    "    \"SNA\", \"SNPS\", \"SO\", \"SPG\", \"SPGI\", \"SRE\", \"STE\", \"STT\", \"STX\", \"STZ\",\n",
    "    \"SWK\", \"SWKS\", \"SYF\", \"SYK\", \"SYY\", \"T\", \"TAP\", \"TDG\", \"TDY\", \"TEL\",\n",
    "    \"TER\", \"TFC\", \"TFX\", \"TGT\", \"TJX\", \"TMO\", \"TMUS\", \"TPR\", \"TRMB\", \"TROW\",\n",
    "    \"TRV\", \"TSCO\", \"TSLA\", \"TSN\", \"TT\", \"TTWO\", \"TXN\", \"TXT\", \"TYL\", \"UA\",\n",
    "    \"UAA\", \"UAL\", \"UDR\", \"UHS\", \"ULTA\", \"UNH\", \"UNM\", \"UNP\", \"UPS\", \"URI\",\n",
    "    \"USB\", \"V\", \"VAR\", \"VFC\", \"VIAC\", \"VLO\", \"VMC\", \"VNO\", \"VRSK\", \"VRSN\",\n",
    "    \"VRTX\", \"VTR\", \"VTRS\", \"VZ\", \"WAB\", \"WAT\", \"WBA\", \"WDC\", \"WEC\", \"WELL\",\n",
    "    \"WFC\", \"WHR\", \"WLTW\", \"WM\", \"WMB\", \"WMT\", \"WRB\", \"WRK\", \"WST\", \"WU\",\n",
    "    \"WY\", \"WYNN\", \"XEL\", \"XLNX\", \"XOM\", \"XRAY\", \"XYL\", \"YUM\", \"ZBH\", \"ZBRA\",\n",
    "    \"ZION\", \"ZTS\"\n",
    "])\n",
    "\n",
    "stocks_delisted = ['BF.B','NLOK', 'PEAK', 'XLNX', 'VAR', 'FB', 'PXD', 'RCII', 'CTXS', 'BRK.B', 'FSR', 'ATVI', 'WRK', 'FBHS', 'VIAC', 'PKI', 'DRE', 'QADA', 'CERN', 'WLTW', 'SIVB', 'PBCT', 'DISH', 'RE', 'MGLN', 'NLSN', 'FLT', 'FRC']\n",
    "\n",
    "stock_tickers = [x for x in stock_tickers if x not in stocks_delisted]"
   ]
  },
  {
   "cell_type": "code",
   "execution_count": 3,
   "metadata": {},
   "outputs": [
    {
     "name": "stderr",
     "output_type": "stream",
     "text": [
      "[*********************100%***********************]  508 of 508 completed\n"
     ]
    }
   ],
   "source": [
    "value = yf.download(stock_tickers, period='1y')\n",
    "value = value['Close'].reset_index()\n",
    "value = value.rename_axis(None, axis=1)"
   ]
  },
  {
   "cell_type": "code",
   "execution_count": 4,
   "metadata": {},
   "outputs": [
    {
     "name": "stderr",
     "output_type": "stream",
     "text": [
      "[*********************100%***********************]  1 of 1 completed\n"
     ]
    }
   ],
   "source": [
    "## For S&P 500 index data.\n",
    "ticker = \"SPY\"\n",
    "\n",
    "# Download historical data\n",
    "sp500_data = yf.download(ticker, period='1y')\n",
    "\n",
    "sp500_data = sp500_data['Close'].reset_index()\n",
    "sp500_data = sp500_data.rename_axis(None, axis=1)"
   ]
  },
  {
   "cell_type": "code",
   "execution_count": 5,
   "metadata": {},
   "outputs": [],
   "source": [
    "sp500_data.to_csv('SPY_1yr.csv',index=False)\n",
    "value.to_csv('500_stocks_1yr.csv',index=False)"
   ]
  }
 ],
 "metadata": {
  "kernelspec": {
   "display_name": ".venv",
   "language": "python",
   "name": "python3"
  },
  "language_info": {
   "codemirror_mode": {
    "name": "ipython",
    "version": 3
   },
   "file_extension": ".py",
   "mimetype": "text/x-python",
   "name": "python",
   "nbconvert_exporter": "python",
   "pygments_lexer": "ipython3",
   "version": "3.12.6"
  }
 },
 "nbformat": 4,
 "nbformat_minor": 2
}
